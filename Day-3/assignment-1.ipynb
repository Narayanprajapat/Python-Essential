{
 "cells": [
  {
   "cell_type": "code",
   "execution_count": 3,
   "metadata": {},
   "outputs": [
    {
     "name": "stdout",
     "output_type": "stream",
     "text": [
      "Enter Limit Number Of Sum : 1001\n",
      "Sum Up To : (0- 1001 )  =  501501\n"
     ]
    }
   ],
   "source": [
    "sumLimit=int(input('Enter Limit Number Of Sum : '))\n",
    "i=1\n",
    "sum=0\n",
    "while(i<=sumLimit):\n",
    "  sum+=i\n",
    "  i+=1\n",
    "print('Sum Up To : (0-',sumLimit,')',' = ',sum)"
   ]
  },
  {
   "cell_type": "code",
   "execution_count": null,
   "metadata": {},
   "outputs": [],
   "source": []
  }
 ],
 "metadata": {
  "kernelspec": {
   "display_name": "Python 3",
   "language": "python",
   "name": "python3"
  },
  "language_info": {
   "codemirror_mode": {
    "name": "ipython",
    "version": 3
   },
   "file_extension": ".py",
   "mimetype": "text/x-python",
   "name": "python",
   "nbconvert_exporter": "python",
   "pygments_lexer": "ipython3",
   "version": "3.7.6"
  }
 },
 "nbformat": 4,
 "nbformat_minor": 4
}
