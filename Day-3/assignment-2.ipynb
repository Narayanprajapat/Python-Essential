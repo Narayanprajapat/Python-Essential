{
 "cells": [
  {
   "cell_type": "code",
   "execution_count": 1,
   "metadata": {},
   "outputs": [
    {
     "name": "stdout",
     "output_type": "stream",
     "text": [
      "Enter Number Check Weather Number Is Prime Or Not :12\n",
      "Number Is Not Prime :  12\n"
     ]
    }
   ],
   "source": [
    "userInput=int(input(\"Enter Number Check Weather Number Is Prime Or Not :\"))\n",
    "\n",
    "i=2\n",
    "f=0\n",
    "while (i<userInput) :\n",
    "  if userInput%i==0:\n",
    "    f+=1\n",
    "  i+=1\n",
    "if f==0:\n",
    "  print('Number Is Prime : ',userInput)\n",
    "else:\n",
    "  print('Number Is Not Prime : ',userInput)"
   ]
  }
 ],
 "metadata": {
  "kernelspec": {
   "display_name": "Python 3",
   "language": "python",
   "name": "python3"
  },
  "language_info": {
   "codemirror_mode": {
    "name": "ipython",
    "version": 3
   },
   "file_extension": ".py",
   "mimetype": "text/x-python",
   "name": "python",
   "nbconvert_exporter": "python",
   "pygments_lexer": "ipython3",
   "version": "3.7.6"
  }
 },
 "nbformat": 4,
 "nbformat_minor": 4
}
