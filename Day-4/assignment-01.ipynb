{
 "cells": [
  {
   "cell_type": "code",
   "execution_count": 2,
   "metadata": {},
   "outputs": [
    {
     "name": "stdout",
     "output_type": "stream",
     "text": [
      "0 what\n",
      "1 we\n",
      "2 think\n",
      "3 we\n",
      "4 become;\n",
      "5 we\n",
      "6 are\n",
      "7 Python\n",
      "8 programmer\n"
     ]
    }
   ],
   "source": [
    "string='what we think we become; we are Python programmer'\n",
    "\n",
    "# Print the index values. \n",
    "splitString=string.split(' ')\n",
    "i=0\n",
    "while i<splitString.__len__():\n",
    "  print(i,splitString[i])\n",
    "  i+=1\n",
    "  "
   ]
  },
  {
   "cell_type": "code",
   "execution_count": null,
   "metadata": {},
   "outputs": [],
   "source": []
  },
  {
   "cell_type": "code",
   "execution_count": null,
   "metadata": {},
   "outputs": [],
   "source": []
  }
 ],
 "metadata": {
  "kernelspec": {
   "display_name": "Python 3",
   "language": "python",
   "name": "python3"
  },
  "language_info": {
   "codemirror_mode": {
    "name": "ipython",
    "version": 3
   },
   "file_extension": ".py",
   "mimetype": "text/x-python",
   "name": "python",
   "nbconvert_exporter": "python",
   "pygments_lexer": "ipython3",
   "version": "3.7.6"
  }
 },
 "nbformat": 4,
 "nbformat_minor": 4
}
