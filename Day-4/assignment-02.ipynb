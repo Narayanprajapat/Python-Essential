{
 "cells": [
  {
   "cell_type": "code",
   "execution_count": 2,
   "metadata": {},
   "outputs": [
    {
     "name": "stdout",
     "output_type": "stream",
     "text": [
      "String Convert In Lower Case :  what we think we become; we are python programmer\n",
      "String Convert In Upper Case :  WHAT WE THINK WE BECOME; WE ARE PYTHON PROGRAMMER\n"
     ]
    }
   ],
   "source": [
    "string='what we think we become; we are Python programmer'\n",
    "\n",
    "# String Method \n",
    "# 1. Lower Case Method\n",
    "print('String Convert In Lower Case : ',string.lower())\n",
    "\n",
    "# 2. Upper Case Method\n",
    "print('String Convert In Upper Case : ',string.upper())"
   ]
  },
  {
   "cell_type": "code",
   "execution_count": null,
   "metadata": {},
   "outputs": [],
   "source": []
  }
 ],
 "metadata": {
  "kernelspec": {
   "display_name": "Python 3",
   "language": "python",
   "name": "python3"
  },
  "language_info": {
   "codemirror_mode": {
    "name": "ipython",
    "version": 3
   },
   "file_extension": ".py",
   "mimetype": "text/x-python",
   "name": "python",
   "nbconvert_exporter": "python",
   "pygments_lexer": "ipython3",
   "version": "3.7.6"
  }
 },
 "nbformat": 4,
 "nbformat_minor": 4
}
