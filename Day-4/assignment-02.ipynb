{
 "cells": [
  {
   "cell_type": "code",
   "execution_count": 2,
   "metadata": {},
   "outputs": [
    {
     "name": "stdout",
     "output_type": "stream",
     "text": [
      "String Check Is Lower Case Or Not :  True\n",
      "String Check Is Upper Case Or Not :  True\n",
      "String Check Is Lower Case Or Not :  False\n",
      "String Check Is Upper Case Or Not :  False\n"
     ]
    }
   ],
   "source": [
    "string1='we are python programmer'\n",
    "\n",
    "# String Method \n",
    "# 1. islower Method this method check string is lower case or not\n",
    "print('String Check Is Lower Case Or Not : ',string1.islower())\n",
    "\n",
    "string2='WE ARE PYTHON PROGRAMMER'\n",
    "# 2. isupper Method this method check string is upper case or not\n",
    "print('String Check Is Upper Case Or Not : ',string2.isupper())\n",
    "\n",
    "string3='We are Python programmer'\n",
    "# . isupper Method this method check string is upper case or not\n",
    "print('String Check Is Lower Case Or Not : ',string3.islower())\n",
    "print('String Check Is Upper Case Or Not : ',string3.isupper())\n",
    "\n",
    "\n"
   ]
  },
  {
   "cell_type": "code",
   "execution_count": null,
   "metadata": {},
   "outputs": [],
   "source": []
  }
 ],
 "metadata": {
  "kernelspec": {
   "display_name": "Python 3",
   "language": "python",
   "name": "python3"
  },
  "language_info": {
   "codemirror_mode": {
    "name": "ipython",
    "version": 3
   },
   "file_extension": ".py",
   "mimetype": "text/x-python",
   "name": "python",
   "nbconvert_exporter": "python",
   "pygments_lexer": "ipython3",
   "version": "3.7.6"
  }
 },
 "nbformat": 4,
 "nbformat_minor": 4
}
